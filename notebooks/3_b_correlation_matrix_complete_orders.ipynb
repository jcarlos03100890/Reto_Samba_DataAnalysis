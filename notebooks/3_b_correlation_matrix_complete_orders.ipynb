{
  "cells": [
    {
      "cell_type": "markdown",
      "metadata": {},
      "source": [
        "Created on Sat Feb 10 13:44:53 2024\n",
        "\n",
        "@author: juan_"
      ]
    },
    {
      "cell_type": "markdown",
      "metadata": {},
      "source": [
        "# 4 Conocimientos sobre librer\u00edas de visualizaci\u00f3n est\u00e1tica\n",
        "\n",
        "## 1. Objetivo\n",
        "\n",
        "Para enriquecer el an\u00e1lisis de Oilst y hacerlo m\u00e1s accesible al p\u00fablico no especializado, el equipo de `Brasil BI Consulting` decidi\u00f3 crear visualizaciones est\u00e1ticas, es decir sin animaciones o filtros interactivos, a partir de los datos de las \u00f3rdenes de los clientes.\n",
        "\n",
        "Con ello en mente, el objetivo de la presente secci\u00f3n ser\u00e1 trabajar con la librer\u00eda `Seaborn` de Python (https://seaborn.pydata.org) para abundar en el an\u00e1lisis correspondiente. Seaborn es una librer\u00eda para implementar gr\u00e1ficos estad\u00edsticos en Python, que se basa en `matplotlib` y se integra estrechamente con las estructuras de datos de `pandas`."
      ]
    },
    {
      "cell_type": "markdown",
      "metadata": {},
      "source": [
        "## 2. Librerias de trabajo"
      ]
    },
    {
      "cell_type": "code",
      "metadata": {},
      "source": [
        "\n",
        "import warnings\n",
        "\n",
        "# Libreria de visualizaci\u00f3n\n",
        "import matplotlib.pyplot as plt\n",
        "import seaborn as sns\n",
        "import plotly.express as px\n",
        "\n",
        "from funciones import read_data\n",
        "\n",
        "warnings.filterwarnings('ignore')\n"
      ],
      "outputs": [],
      "execution_count": null
    },
    {
      "cell_type": "markdown",
      "metadata": {},
      "source": [
        "## 3. Lectura de datos\n",
        "\n",
        " Leeremos los datos, usando una funcion previamente definida\n",
        " "
      ]
    },
    {
      "cell_type": "code",
      "metadata": {},
      "source": [
        "\n",
        "oilst = read_data(\"results/1\")\n"
      ],
      "outputs": [],
      "execution_count": null
    },
    {
      "cell_type": "markdown",
      "metadata": {},
      "source": [
        "En este an\u00e1lisis \u00fanicamente nos interesar\u00e1n las \u00f3rdenes completadas, \n",
        "as\u00ed que tenemos que obtener el subconjunto de datos correspondiente. "
      ]
    },
    {
      "cell_type": "code",
      "metadata": {},
      "source": [
        "# Condicion  l\u00f3gica para filtrar (solo ordenes entregadas)\n",
        "\n",
        "delivered = oilst.query(\"order_status  == 'delivered'\")"
      ],
      "outputs": [],
      "execution_count": null
    },
    {
      "cell_type": "markdown",
      "metadata": {},
      "source": [
        "B. Programa que cree una visualizaci\u00f3n de la matriz de correlaci\u00f3n de `delta_days` \n",
        "junto con el resto de variables num\u00e9ricas, para las \u00f3rdenes en las que se concret\u00f3 su entrega. \n",
        "Este script se denominar\u00e1 `3_b_correlation_matrix_complete_orders.py` y su resultado ser\u00e1 una \n",
        "figura llamada `3_b_correlation_matrix_complete_orders.png`."
      ]
    },
    {
      "cell_type": "markdown",
      "metadata": {},
      "source": [
        "### An\u00e1lsis de correlaci\u00f3n lineal\n",
        "\n",
        "La correlaci\u00f3n lineal es una herramienta que se utiliza para analizar la relaci\u00f3n lineal entre varias variables. \n",
        "En esencia, lo que hace es medir cu\u00e1nto se parecen dos variables y cu\u00e1nto se influyen mutuamente.\n",
        "\n",
        "Formalmente, se denomina **Coeficiente de correlaci\u00f3n de Pearson** y se calcula como un coeficiente entre \n",
        "dos variables num\u00e9ricas, que oscila entre entre -1 y 1, donde -1 significa que las dos variables est\u00e1n \n",
        "completamente inversamente relacionadas (si una aumenta, la otra disminuye) y 1 significa que las \n",
        "dos variables est\u00e1n completamente relacionadas (si una aumenta, la otra tambi\u00e9n lo hace). En el caso cercano a cero, \n",
        "esto significa que no hay correlacion de tipo lineal entre estas\n",
        "\n",
        "\n",
        "Si queremos detectar que una variable tiene correlaci\u00f3n lineal con otrra, su coeficiente de correlaci\u00f3n debe \n",
        "aproximarse lo m\u00e1s posible a -1 o 1. \n",
        "\n",
        "Debemos mencionar que la existenciade correlaci\u00f3n lineal entre dos variables no implica que una cause a la otra; \n",
        "por ejemplo, la cantidad de helados que se venden en verano aumenta a la vez que la cantidad de quemaduras en \n",
        " piel en la misma \u00e9poca, sin que alguna de ellas sea la causa de la otra. Sin embargo la correlaci\u00f3n alta es un \n",
        " elemento deseable en cualquier an\u00e1lisis exploratorio para comenzar a indagar como es que un fen\u00f3meno cambia ante \n",
        " diversos factores. "
      ]
    },
    {
      "cell_type": "code",
      "metadata": {},
      "source": [
        "\n",
        "# lista de variables numericas de ventas, productos, retrasos y distancia al centro de distribucion\n",
        "numerical_variables = ['total_sales', 'total_products',\n",
        "                       'distance_distribution_center', 'delta_days']\n",
        "# calculo de matriz de correlacion de las ordenes completadas\n",
        "data = delivered[numerical_variables\n",
        "                 ].corr().round(4)\n",
        "\n",
        "print(data)"
      ],
      "outputs": [],
      "execution_count": null
    },
    {
      "cell_type": "code",
      "metadata": {},
      "source": [
        "\n",
        "# Especifica el tama\u00f1o de la figura\n",
        "plt.figure(figsize=(15, 10))\n",
        "\n",
        "svm = sns.heatmap(\n",
        "    data,\n",
        "    cmap=\"coolwarm\",\n",
        "    annot=True).set(\n",
        "        title='Matriz de correlaci\u00f3n de las \u00f3rdenes completadas'\n",
        ")\n",
        "\n",
        "plt.savefig('results/3/3_b_correlation_matrix_complete_orders.png', dpi=600)\n",
        "\n",
        "# plt.show()"
      ],
      "outputs": [],
      "execution_count": null
    },
    {
      "cell_type": "code",
      "metadata": {},
      "source": [
        "\n",
        "fig = px.imshow(data, text_auto=True, color_continuous_scale='RdBu_r')\n",
        "\n",
        "# Establecer el titulo\n",
        "fig.update_layout(\n",
        "    title=\"Matriz de correlaci\u00f3n de las \u00f3rdenes completadas\")\n",
        "\n",
        "# Guardar el plot\n",
        "fig.write_html(\"results/3/3_b_correlation_matrix_complete_orders.html\")\n",
        "\n",
        "# Display the plot\n",
        "# fig.show()\n"
      ],
      "outputs": [],
      "execution_count": null
    },
    {
      "cell_type": "code",
      "metadata": {},
      "source": [
        "\n",
        "# Filtrar las ordenes con retrazo prolongado\n",
        "filter = \"delay_status == 'long_delay'\"\n",
        "\n",
        "# calculo de matriz de correlacion de las ordenes completadas con retrazos prolongaos\n",
        "data = delivered.query(filter)[\n",
        "    numerical_variables\n",
        "].corr().round(4)\n",
        "\n",
        "print(data)\n",
        "# %%\n",
        "\n",
        "# Especifica el tama\u00f1o de la figura\n",
        "plt.figure(figsize=(15, 10))\n",
        "\n",
        "svm = sns.heatmap(\n",
        "    data,\n",
        "    cmap=\"coolwarm\",\n",
        "    annot=True).set(\n",
        "        title='Matriz de correlaci\u00f3n de las \u00f3rdenes completadas con retrazo prolongado'\n",
        ")\n",
        "\n",
        "plt.savefig(\n",
        "    'results/3/3_b_correlation_matrix_complete_orders_long_delay.png', dpi=600)\n",
        "\n",
        "# plt.show()"
      ],
      "outputs": [],
      "execution_count": null
    },
    {
      "cell_type": "code",
      "metadata": {},
      "source": [
        "\n",
        "fig = px.imshow(data,\n",
        "                text_auto=True,\n",
        "                color_continuous_scale='RdBu_r')\n",
        "\n",
        "# Establecer el titulo\n",
        "fig.update_layout(\n",
        "    title=\"Matriz de correlaci\u00f3n de las \u00f3rdenes completadas con retrazo prolongado\")\n",
        "\n",
        "# Guardar el plot\n",
        "fig.write_html(\n",
        "    \"results/3/3_b_correlation_matrix_complete_orders_long_delay.html\")\n",
        "\n",
        "# Display the plot\n",
        "# fig.show()\n"
      ],
      "outputs": [],
      "execution_count": null
    }
  ],
  "metadata": {
    "anaconda-cloud": {},
    "kernelspec": {
      "display_name": "Python 3",
      "language": "python",
      "name": "python3"
    },
    "language_info": {
      "codemirror_mode": {
        "name": "ipython",
        "version": 3
      },
      "file_extension": ".py",
      "mimetype": "text/x-python",
      "name": "python",
      "nbconvert_exporter": "python",
      "pygments_lexer": "ipython3",
      "version": "3.6.1"
    }
  },
  "nbformat": 4,
  "nbformat_minor": 4
}