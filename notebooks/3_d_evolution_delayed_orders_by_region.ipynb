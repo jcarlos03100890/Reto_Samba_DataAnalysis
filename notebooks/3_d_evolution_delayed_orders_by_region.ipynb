{
  "cells": [
    {
      "cell_type": "markdown",
      "metadata": {},
      "source": [
        "Created on Sun Feb 11 11:27:55 2024\n",
        "\n",
        "@author: juan_"
      ]
    },
    {
      "cell_type": "markdown",
      "metadata": {},
      "source": [
        "# Tema 5. Conocimientos sobre librer\u00edas de visualizaci\u00f3n interactiva\n",
        "\n",
        "## 1. Objetivo\n",
        "\n",
        "Con el objeto de ampliar el an\u00e1lisis de Oilst y m\u00e1s interactivo hacia el p\u00fablico al que va dirigido, el equipo de `Brasil BI Consulting` decidi\u00f3 crear visualizaciones interactiva, es decir que incluyen animaciones o filtros interactivos, a partir de los datos de las \u00f3rdenes de los clientes y algunos datos geogr\u00e1ficos.\n",
        "\n",
        "Con ello en mente, el objetivo de la presente secci\u00f3n ser\u00e1 trabajar con el m\u00f3dulo `Plotly Express` de la librer\u00eda `Plotly` de Python (https://plotly.com/python/). \u00c9sta es una librer\u00eda para realizar gr\u00e1ficos interactivos en Python de amplio espectro."
      ]
    },
    {
      "cell_type": "markdown",
      "metadata": {},
      "source": [
        "## 2. Librerias de trabajo"
      ]
    },
    {
      "cell_type": "code",
      "metadata": {},
      "source": [
        "\n",
        "import pandas as pd\n",
        "\n",
        "\n",
        "# Libreria de visualizaci\u00f3n\n",
        "import plotly.express as px\n",
        "\n",
        "from funciones import get_data_region, read_data\n",
        "\n",
        "import warnings\n",
        "warnings.filterwarnings('ignore')\n"
      ],
      "outputs": [],
      "execution_count": null
    },
    {
      "cell_type": "markdown",
      "metadata": {},
      "source": [
        "## 3. Lectura de datos\n",
        "\n",
        " Leeremos los datos, usando una funcion previamente definida\n",
        " \n",
        "\"\"\"\n",
        "\n",
        "oilst = read_data(\"results/1\")"
      ]
    },
    {
      "cell_type": "markdown",
      "metadata": {},
      "source": [
        "Ya que en este sctipt realizaremos un analysis por region, debemos agrear la region a los datos procesados de Olist"
      ]
    },
    {
      "cell_type": "code",
      "metadata": {},
      "source": [
        "\n",
        "regions = get_data_region(\"inputs\")\n",
        "\n",
        "# Agregamos la columna de regi\u00f3n para los estadios de Brasil\n",
        "oilst = oilst.merge(regions[['abbreviation', 'region']],\n",
        "                    on='abbreviation', how='left')\n",
        "\n",
        "oilst.info()"
      ],
      "outputs": [],
      "execution_count": null
    },
    {
      "cell_type": "markdown",
      "metadata": {},
      "source": [
        "A su vez transformaremos el nombre de la ciudades a un formato de t\u00edtulo, es decir, las primeras letras de las palabras estar\u00e1n en may\u00fasculas."
      ]
    },
    {
      "cell_type": "code",
      "metadata": {},
      "source": [
        "\n",
        "oilst['geolocation_city'] = oilst['geolocation_city'].str.title()"
      ],
      "outputs": [],
      "execution_count": null
    },
    {
      "cell_type": "markdown",
      "metadata": {},
      "source": [
        "En este an\u00e1lisis \u00fanicamente nos interesar\u00e1n las \u00f3rdenes completadas, \n",
        "as\u00ed que tenemos que obtener el subconjunto de datos correspondiente. "
      ]
    },
    {
      "cell_type": "code",
      "metadata": {},
      "source": [
        "# Condicion  l\u00f3gica para filtrar (solo ordenes entregadas)\n",
        "\n",
        "delivered = oilst.query(\"order_status  == 'delivered'\")"
      ],
      "outputs": [],
      "execution_count": null
    },
    {
      "cell_type": "markdown",
      "metadata": {},
      "source": [
        "Programa que cree una visualizaci\u00f3n interactiva de un gr\u00e1fico de barras que por cada mes y a\u00f1os, \n",
        "donde la altura de cada barra cuente la cantidad de \u00f3rdenes con retraso prolongado que sucedieron \n",
        "en dicho periodo. Adem\u00e1s, dentro cada barra se deber\u00e1 tener un desglose de \n",
        "la cantidad de \u00f3rdenes que tuvieron retraso en cada uno de los periodos.\n",
        "\n",
        "**Hints:** \n",
        "1) Primero realize conteo agrupados de las \u00f3rdenes completadas mediante las variables \n",
        "`delay_status`,`year_month` y `geolocation_state`, \n",
        "2) despu\u00e9s explore la documentaci\u00f3n de la utilidad `.bar` de Plotly para construir la visualizaci\u00f3n."
      ]
    },
    {
      "cell_type": "code",
      "metadata": {},
      "source": [
        "# Calcula la cantidad de ordenes en el tiempo por region\n",
        "orders_time_delay_status = delivered.groupby(\n",
        "    ['year_month', 'delay_status', 'region']).aggregate(\n",
        "        {'order_id': 'count', }\n",
        ").reset_index().rename(\n",
        "    columns={'order_id': 'orders', }\n",
        ")\n",
        "\n",
        "# Crea una variable temporal en texto para graficar\n",
        "orders_time_delay_status['period'] = orders_time_delay_status['year_month'].astype(\n",
        "    str)\n",
        "\n",
        "# Convertir a date el a\u00f1o y mes\n",
        "orders_time_delay_status['year_month'] = pd.to_datetime(\n",
        "    orders_time_delay_status['year_month'])\n",
        "\n",
        "# Order por a\u00f1o y mes para graficar\n",
        "orders_time_delay_status = orders_time_delay_status.sort_values(\n",
        "    by='year_month')"
      ],
      "outputs": [],
      "execution_count": null
    },
    {
      "cell_type": "code",
      "metadata": {},
      "source": [
        "# Crea la visualizacion\n",
        "fig = px.bar(\n",
        "    orders_time_delay_status.query(\n",
        "        \"delay_status == 'long_delay'\"\n",
        "    ),\n",
        "    x=\"period\",\n",
        "    y=\"orders\",\n",
        "    color='region',\n",
        "    text_auto=True,\n",
        "    facet_row=\"delay_status\",\n",
        "    title='Evolicion del N\u00famero de \u00f3rdenes con retraso prolongado por Region'\n",
        ")\n",
        "# Guardar la figura en un archivo html\n",
        "fig.write_html(\n",
        "    \"results/3/3_d_evolution_delayed_orders_by_region.html\")\n",
        "# Muestra la figura\n",
        "#fig.show()\n"
      ],
      "outputs": [],
      "execution_count": null
    }
  ],
  "metadata": {
    "anaconda-cloud": {},
    "kernelspec": {
      "display_name": "Python 3",
      "language": "python",
      "name": "python3"
    },
    "language_info": {
      "codemirror_mode": {
        "name": "ipython",
        "version": 3
      },
      "file_extension": ".py",
      "mimetype": "text/x-python",
      "name": "python",
      "nbconvert_exporter": "python",
      "pygments_lexer": "ipython3",
      "version": "3.6.1"
    }
  },
  "nbformat": 4,
  "nbformat_minor": 4
}