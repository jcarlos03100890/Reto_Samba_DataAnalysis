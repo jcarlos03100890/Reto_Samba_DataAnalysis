{
  "cells": [
    {
      "cell_type": "markdown",
      "metadata": {},
      "source": [
        "Created on Sat Feb 10 12:47:36 2024\n",
        "\n",
        "@author: juan_"
      ]
    },
    {
      "cell_type": "markdown",
      "metadata": {},
      "source": [
        "# 4 Conocimientos sobre librer\u00edas de visualizaci\u00f3n est\u00e1tica\n",
        "\n",
        "## 1. Objetivo\n",
        "\n",
        "Para enriquecer el an\u00e1lisis de Oilst y hacerlo m\u00e1s accesible al p\u00fablico no especializado, el equipo de `Brasil BI Consulting` decidi\u00f3 crear visualizaciones est\u00e1ticas, es decir sin animaciones o filtros interactivos, a partir de los datos de las \u00f3rdenes de los clientes.\n",
        "\n",
        "Con ello en mente, el objetivo de la presente secci\u00f3n ser\u00e1 trabajar con la librer\u00eda `Seaborn` de Python (https://seaborn.pydata.org) para abundar en el an\u00e1lisis correspondiente. Seaborn es una librer\u00eda para implementar gr\u00e1ficos estad\u00edsticos en Python, que se basa en `matplotlib` y se integra estrechamente con las estructuras de datos de `pandas`."
      ]
    },
    {
      "cell_type": "markdown",
      "metadata": {},
      "source": [
        "## 2. Librerias de trabajo"
      ]
    },
    {
      "cell_type": "code",
      "metadata": {},
      "source": [
        "\n",
        "\n",
        "import warnings\n",
        "\n",
        "# Libreria de visualizaci\u00f3n\n",
        "import matplotlib.pyplot as plt\n",
        "import seaborn as sns\n",
        "import plotly.express as px\n",
        "\n",
        "from funciones import read_data\n",
        "\n",
        "\n",
        "warnings.filterwarnings('ignore')\n"
      ],
      "outputs": [],
      "execution_count": null
    },
    {
      "cell_type": "markdown",
      "metadata": {},
      "source": [
        "## 3. Lectura de datos\n",
        "\n",
        " Leeremos los datos, usando una funcion previamente definida\n",
        " "
      ]
    },
    {
      "cell_type": "code",
      "metadata": {},
      "source": [
        "\n",
        "oilst = read_data(\"results/1\")\n"
      ],
      "outputs": [],
      "execution_count": null
    },
    {
      "cell_type": "markdown",
      "metadata": {},
      "source": [
        "En este an\u00e1lisis \u00fanicamente nos interesar\u00e1n las \u00f3rdenes completadas, \n",
        "as\u00ed que tenemos que obtener el subconjunto de datos correspondiente. "
      ]
    },
    {
      "cell_type": "code",
      "metadata": {},
      "source": [
        "# Condicion  l\u00f3gica para filtrar (solo ordenes entregadas)\n",
        "\n",
        "delivered = oilst.query(\"order_status  == 'delivered'\")\n"
      ],
      "outputs": [],
      "execution_count": null
    },
    {
      "cell_type": "markdown",
      "metadata": {},
      "source": [
        "A. Script que construya una visualizaci\u00f3n que permita comparar los histogramas de las ventas de \u00f3rdenes completas que tuvieron retrazos moderados y prolongados. Este script tendr\u00e1 el nombre `3_a_histogram_sales_short_long_delays.py` y la imagen resultante deber\u00e1 denominarse `3_a_histogram_sales_short_long_delays.png`."
      ]
    },
    {
      "cell_type": "code",
      "metadata": {},
      "source": [
        "### Uso de la variable `hue`\n",
        "\n",
        "\"\"\"\n",
        "Como se ha mencionado antes, las implementaciones de Seaborn son muy flexibles y permite a\u00f1adir segmentaciones de una visualizaci\u00f3n usando los mismos c\u00f3digos que antes, pero segmentando por una variable categ\u00f3rica especificada en la variable `hue='nombre_variable_categ\u00f3rica'`.\n",
        "\n",
        "Para establecer el numero de inventarios, usamos bins=\"auto\". Sin embargo para establecer los intervalos usando ploty, usaremos los calculados en el script 2_c\n",
        "\"\"\""
      ],
      "outputs": [],
      "execution_count": null
    },
    {
      "cell_type": "code",
      "metadata": {},
      "source": [
        "\n",
        "# Especifica el tama\u00f1o de la figura\n",
        "plt.figure(figsize = (15,6))\n",
        "\n",
        "# Genera el histograma\n",
        "sns.histplot(\n",
        "    data=delivered.query(\"delay_status != 'on_time'\"),\n",
        "    x=\"total_sales\",\n",
        "    hue=\"delay_status\",\n",
        "    bins=\"auto\"    \n",
        "    ).set(\n",
        "        title='Histograma de frecuencias de la diferencia de la variable total_sales \\n por \u00f3rdenes completas que tuvieron retrazos moderados y prolongados',\n",
        "        xlabel='Total de Ventas', \n",
        "        ylabel='Frecuencia'\n",
        "        )\n",
        "\n",
        "# Save the plot\n",
        "plt.savefig('results/3/3_a_histogram_sales_short_long_delays.png')\n",
        "\n",
        "# Display the plot\n",
        "#plt.show()"
      ],
      "outputs": [],
      "execution_count": null
    },
    {
      "cell_type": "code",
      "metadata": {},
      "source": [
        "\n",
        "# Genera el histograma\n",
        "fig = px.histogram(\n",
        "    delivered.query(\"delay_status != 'on_time'\"), \n",
        "    x=\"total_sales\", \n",
        "    color=\"delay_status\", \n",
        "    labels={'delay_status':'Tipo de Retrazo','total_sales':'Total de Ventas','count':'# Ocurrencias'},\n",
        "    nbins=310)\n",
        "\n",
        "# Establecer el titulo\n",
        "fig.update_layout(title=\"Histograma de frecuencias de la diferencia de la variable total_sales por \u00f3rdenes completas que tuvieron retrazos moderados y prolongados\")\n",
        "\n",
        "# Update the xaxis label\n",
        "fig.update_xaxes(title='Total de Ventas')\n",
        "\n",
        "# Update the xaxis label\n",
        "fig.update_yaxes(title='# Ocurrencias')\n",
        "\n",
        "\n",
        "# Guardar el histograma\n",
        "fig.write_html(\"results/3/3_a_histogram_sales_short_long_delays.html\")\n",
        "\n",
        "# Display the plot\n",
        "#fig.show()"
      ],
      "outputs": [],
      "execution_count": null
    }
  ],
  "metadata": {
    "anaconda-cloud": {},
    "kernelspec": {
      "display_name": "Python 3",
      "language": "python",
      "name": "python3"
    },
    "language_info": {
      "codemirror_mode": {
        "name": "ipython",
        "version": 3
      },
      "file_extension": ".py",
      "mimetype": "text/x-python",
      "name": "python",
      "nbconvert_exporter": "python",
      "pygments_lexer": "ipython3",
      "version": "3.6.1"
    }
  },
  "nbformat": 4,
  "nbformat_minor": 4
}