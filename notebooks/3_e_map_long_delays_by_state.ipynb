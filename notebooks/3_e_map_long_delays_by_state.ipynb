{
  "cells": [
    {
      "cell_type": "markdown",
      "metadata": {},
      "source": [
        "Created on Sun Feb 11 13:00:09 2024\n",
        "\n",
        "@author: juan_"
      ]
    },
    {
      "cell_type": "markdown",
      "metadata": {},
      "source": [
        "# Tema 5. Conocimientos sobre librer\u00edas de visualizaci\u00f3n interactiva\n",
        "\n",
        "## 1. Objetivo\n",
        "\n",
        "Con el objeto de ampliar el an\u00e1lisis de Oilst y m\u00e1s interactivo hacia el p\u00fablico al que va dirigido, el equipo de `Brasil BI Consulting` decidi\u00f3 crear visualizaciones interactiva, es decir que incluyen animaciones o filtros interactivos, a partir de los datos de las \u00f3rdenes de los clientes y algunos datos geogr\u00e1ficos.\n",
        "\n",
        "Con ello en mente, el objetivo de la presente secci\u00f3n ser\u00e1 trabajar con el m\u00f3dulo `Plotly Express` de la librer\u00eda `Plotly` de Python (https://plotly.com/python/). \u00c9sta es una librer\u00eda para realizar gr\u00e1ficos interactivos en Python de amplio espectro."
      ]
    },
    {
      "cell_type": "markdown",
      "metadata": {},
      "source": [
        "## 2. Librerias de trabajo"
      ]
    },
    {
      "cell_type": "code",
      "metadata": {},
      "source": [
        "\n",
        "# Libreria de visualizaci\u00f3n\n",
        "import plotly.express as px\n",
        "from funciones import read_data, get_geo_data\n",
        "\n",
        "import warnings\n",
        "warnings.filterwarnings('ignore')\n"
      ],
      "outputs": [],
      "execution_count": null
    },
    {
      "cell_type": "markdown",
      "metadata": {},
      "source": [
        "## 3. Lectura de datos\n",
        "\n",
        " Leeremos los datos, usando una funcion previamente definida\n",
        " \n",
        "\"\"\"\n",
        "\n",
        "oilst = read_data(\"results/1\")"
      ]
    },
    {
      "cell_type": "markdown",
      "metadata": {},
      "source": [
        "Adem\u00e1s de la data procesada, leeremos el archivo **brasil_geodata.json**, \n",
        "el cual es informaci\u00f3n geogr\u00e1fica de los estados de Brasil que ser\u00e1 \u00fatil para nuestro an\u00e1lisis. \n",
        "Dicho archivo es una versi\u00f3n procesada del archivo `Brasil.json` de Kaggle \n",
        "(https://www.kaggle.com/code/kerneler/starter-brazil-states-geojson-ca176cdb-a)."
      ]
    },
    {
      "cell_type": "code",
      "metadata": {},
      "source": [
        "\n",
        "geojson = get_geo_data(\"inputs\")"
      ],
      "outputs": [],
      "execution_count": null
    },
    {
      "cell_type": "markdown",
      "metadata": {},
      "source": [
        "En este an\u00e1lisis \u00fanicamente nos interesar\u00e1n las \u00f3rdenes completadas, \n",
        "as\u00ed que tenemos que obtener el subconjunto de datos correspondiente. "
      ]
    },
    {
      "cell_type": "code",
      "metadata": {},
      "source": [
        "# Condicion  l\u00f3gica para filtrar (solo ordenes entregadas)\n",
        "\n",
        "delivered = oilst.query(\"order_status  == 'delivered'\")"
      ],
      "outputs": [],
      "execution_count": null
    },
    {
      "cell_type": "markdown",
      "metadata": {},
      "source": [
        "### Visualizaciones Geogr\u00e1ficas\n",
        "\n",
        "Uno de lo puntos m\u00e1s interesantes de Ploty es la posibilidad de realizar gr\u00e1ficos completos usando data de \n",
        "otros sistemas, como los de origen geogr\u00e1fico.\n",
        "\n",
        "En esta secci\u00f3n se mostrar\u00e1n visualizaciones de casos de \u00f3rdenes con retrazos prolongados que ocurrieron en cada estado. \n",
        "Para ello se contaran las ordenes por tipo de retrazo, para despues filtrar los retrazos prolongados."
      ]
    },
    {
      "cell_type": "markdown",
      "metadata": {},
      "source": [
        "E. Script que construya un mapa interactivo que indique con una escala de colores a la cantidad \n",
        "de casos de \u00f3rdenes con retrazos prolongados que ocurrieron en cada estado. \n",
        "Dicho script se llamar\u00e1 `3_e_map_long_delays_by_state.py` y la imagen interactiva deber\u00e1 tener \n",
        "el nombre `3_e_map_long_delays_by_state.html`."
      ]
    },
    {
      "cell_type": "code",
      "metadata": {},
      "source": [
        "\n",
        "# Calcula el numero de ordenes con retrazos en el estado\n",
        "\n",
        "delay_by_state = delivered.groupby(\n",
        "    ['state_name', 'geolocation_state', 'delay_status']).aggregate(\n",
        "        {'order_id': 'count', }\n",
        ").reset_index().rename(\n",
        "    columns={'order_id': 'orders', }\n",
        ")\n",
        "\n",
        "\n",
        "delay_by_state = delay_by_state.sort_values(['orders'], ascending=False)"
      ],
      "outputs": [],
      "execution_count": null
    },
    {
      "cell_type": "markdown",
      "metadata": {},
      "source": [
        "Esta informaci\u00f3n se puede pasar a la funci\u00f3n `.choropleth` de Plotly para construir un mapa. \n",
        "Cabe destaca que el archivo `geojson` es un archivo externo que contiene informaci\u00f3n de \n",
        "un sistema cartogr\u00e1fico que `Ploty` puede leer e interpretar para cronstruir la visualizaci\u00f3n:"
      ]
    },
    {
      "cell_type": "code",
      "metadata": {},
      "source": [
        "\n",
        "# Crear figura con el mapa de Brasil y el choropleth\n",
        "fig = px.choropleth(\n",
        "    data_frame=delay_by_state.query(\n",
        "        \"delay_status == 'long_delay'\"\n",
        "    ),\n",
        "    geojson=geojson,\n",
        "    featureidkey='properties.UF',\n",
        "    locations='geolocation_state',\n",
        "    color='orders',\n",
        "    color_continuous_scale=\"Reds\",\n",
        "    scope='south america',\n",
        "    labels={'orders': 'Ordenes',\n",
        "            'geolocation_state':'Estado',\n",
        "            'delay_status':'Tipo de Retrazo'},\n",
        "    width=800,\n",
        "    height=800,\n",
        "    title=\"Mapa de ordenes con retrazo prolongado a nivel estatal\",\n",
        "    hover_name='state_name',\n",
        "    hover_data=['delay_status']\n",
        ")\n",
        "\n",
        "# Actualizar dise\u00f1o de la figura\n",
        "fig.update_geos(\n",
        "    showcountries=False,\n",
        "    showcoastlines=True,\n",
        "    showland=True,\n",
        "    fitbounds='locations',\n",
        "    visible=True\n",
        ")\n",
        "\n",
        "\n",
        "# Guardar la figura en un archivo html\n",
        "fig.write_html(\n",
        "    \"results/3/3_e_map_long_delays_by_state.html\")\n",
        "\n",
        "# Mostrar figura\n",
        "#fig.show()\n"
      ],
      "outputs": [],
      "execution_count": null
    }
  ],
  "metadata": {
    "anaconda-cloud": {},
    "kernelspec": {
      "display_name": "Python 3",
      "language": "python",
      "name": "python3"
    },
    "language_info": {
      "codemirror_mode": {
        "name": "ipython",
        "version": 3
      },
      "file_extension": ".py",
      "mimetype": "text/x-python",
      "name": "python",
      "nbconvert_exporter": "python",
      "pygments_lexer": "ipython3",
      "version": "3.6.1"
    }
  },
  "nbformat": 4,
  "nbformat_minor": 4
}