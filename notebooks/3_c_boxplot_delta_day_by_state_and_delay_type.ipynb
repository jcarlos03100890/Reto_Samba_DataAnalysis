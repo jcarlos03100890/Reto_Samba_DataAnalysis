{
  "cells": [
    {
      "cell_type": "markdown",
      "metadata": {},
      "source": [
        "Created on Sat Feb 10 14:24:47 2024\n",
        "\n",
        "@author: juan_"
      ]
    },
    {
      "cell_type": "markdown",
      "metadata": {},
      "source": [
        "# 4 Conocimientos sobre librer\u00edas de visualizaci\u00f3n est\u00e1tica\n",
        "\n",
        "## 1. Objetivo\n",
        "\n",
        "Para enriquecer el an\u00e1lisis de Oilst y hacerlo m\u00e1s accesible al p\u00fablico no especializado, el equipo de `Brasil BI Consulting` decidi\u00f3 crear visualizaciones est\u00e1ticas, es decir sin animaciones o filtros interactivos, a partir de los datos de las \u00f3rdenes de los clientes.\n",
        "\n",
        "Con ello en mente, el objetivo de la presente secci\u00f3n ser\u00e1 trabajar con la librer\u00eda `Seaborn` de Python (https://seaborn.pydata.org) para abundar en el an\u00e1lisis correspondiente. Seaborn es una librer\u00eda para implementar gr\u00e1ficos estad\u00edsticos en Python, que se basa en `matplotlib` y se integra estrechamente con las estructuras de datos de `pandas`."
      ]
    },
    {
      "cell_type": "markdown",
      "metadata": {},
      "source": [
        "## 2. Librerias de trabajo"
      ]
    },
    {
      "cell_type": "code",
      "metadata": {},
      "source": [
        "\n",
        "import warnings\n",
        "\n",
        "# Libreria de visualizaci\u00f3n\n",
        "import seaborn as sns\n",
        "import plotly.graph_objects as go\n",
        "from plotly.subplots import make_subplots\n",
        "\n",
        "from funciones import read_data\n",
        "\n",
        "warnings.filterwarnings('ignore')\n"
      ],
      "outputs": [],
      "execution_count": null
    },
    {
      "cell_type": "markdown",
      "metadata": {},
      "source": [
        "## 3. Lectura de datos\n",
        "\n",
        " Leeremos los datos, usando una funcion previamente definida\n",
        " \n",
        "\"\"\"\n",
        "\n",
        "oilst = read_data(\"results/1\")"
      ]
    },
    {
      "cell_type": "markdown",
      "metadata": {},
      "source": [
        "En este an\u00e1lisis \u00fanicamente nos interesar\u00e1n las \u00f3rdenes completadas, \n",
        "as\u00ed que tenemos que obtener el subconjunto de datos correspondiente. "
      ]
    },
    {
      "cell_type": "code",
      "metadata": {},
      "source": [
        "# Condicion  l\u00f3gica para filtrar (solo ordenes entregadas)\n",
        "delivered = oilst.query(\"order_status  == 'delivered'\")"
      ],
      "outputs": [],
      "execution_count": null
    },
    {
      "cell_type": "markdown",
      "metadata": {},
      "source": [
        "C. Script que construya una visualizaci\u00f3n los diferentes diagramas de cajas de la `delta_days` \n",
        "a lo largo de los estados de Brasil. Dicha visualizaci\u00f3n deber\u00e1 segmentarse o aperturarse de \n",
        "forma que permita revisar en una misma figura como varian los diagramas de caja tambi\u00e9n para \n",
        "\u00f3rdenes que tuvieron diferentes valores del campo `delay_status` a lo largo de los estados brasile\u00f1os. \n",
        "Dicho script se llamar\u00e1n `3_c_boxplot_delta_day_by_state_and_delay_type.py` y la figura resultante \n",
        "del mismo se denominar\u00e1 `3_c_boxplot_delta_day_by_state_and_delay_type.png`. \n",
        "\n",
        "Hint: Revisar la documentaci\u00f3n de `.catplot`"
      ]
    },
    {
      "cell_type": "markdown",
      "metadata": {},
      "source": [
        "En esta secci\u00f3n se mostrar\u00e1n visualizaciones de los tiempos promedios por entrega en cada estado. \n",
        "Para ello se estimar\u00e1 el valor medio de los retrazos."
      ]
    },
    {
      "cell_type": "code",
      "metadata": {},
      "source": [
        "g = sns.catplot(\n",
        "    data=delivered.sort_values(['state_name']),\n",
        "    x=\"delta_days\", y='delay_status',\n",
        "    kind=\"box\",\n",
        "    col='state_name', palette=\"Set1\",\n",
        "    orient=\"h\", sharex=False, margin_titles=True,\n",
        "    height=2, aspect=4, col_wrap=3\n",
        ")\n",
        "\n",
        "g.set(xlabel=\"Delta Days\", ylabel=\"\")\n",
        "\n",
        "g.set_titles(col_template=\"\\nEstado: {col_name}\")\n",
        "\n",
        "for ax in g.axes.flat:\n",
        "    ax.xaxis.set_major_formatter('{x:.0f}')\n",
        "\n",
        "g.fig.subplots_adjust(top=0.95, bottom=0.1, hspace=0.75, wspace=0.125)\n",
        "\n",
        "# add title to the whole plot\n",
        "g.fig.suptitle(\n",
        "    'Diagrama de cajas de delta days por delay status de cada estado ')\n",
        "\n",
        "g.savefig(\n",
        "    'results/3/3_c_boxplot_delta_day_by_state_and_delay_type.png', dpi=600)"
      ],
      "outputs": [],
      "execution_count": null
    },
    {
      "cell_type": "code",
      "metadata": {},
      "source": [
        "states = delivered['state_name'].dropna().unique()\n",
        "\n",
        "i = 1\n",
        "ii=1\n",
        "jj=1\n",
        "fig = make_subplots(rows=10, cols=3)\n",
        "\n",
        "for state in states:\n",
        "\n",
        "    print(i, \"-\", state)\n",
        "\n",
        "    current_state = delivered[delivered['state_name'] == state]\n",
        "    \n",
        "    fig.append_trace(go.Box(x=current_state['delta_days'],\n",
        "                            y=current_state['delay_status'],\n",
        "                            name=state, \n",
        "                            ), row=ii, col=jj)\n",
        "\n",
        "    i = i+1\n",
        "    jj = jj+1\n",
        "    \n",
        "    if i == 4:\n",
        "        ii= 2\n",
        "        jj=1\n",
        "    if i == 7:\n",
        "        ii= 3\n",
        "        jj=1\n",
        "    if i == 10:\n",
        "        ii= 4\n",
        "        jj=1\n",
        "    if i == 13:\n",
        "        ii= 5\n",
        "        jj=1\n",
        "    if i == 16:\n",
        "        ii= 6\n",
        "        jj=1\n",
        "    if i == 19:\n",
        "        ii= 7\n",
        "        jj=1\n",
        "    if i == 22:\n",
        "        ii= 8\n",
        "        jj=1\n",
        "    if i == 25:\n",
        "        ii= 9\n",
        "        jj=1\n",
        "    \n",
        "fig.update_layout(\n",
        "    \n",
        "    boxmode='group',title=\"Diagrama de cajas de delta days por delay status de cada estado\",height=3000\n",
        ")\n",
        "\n",
        "\n",
        "fig.update_traces(orientation='h')  # horizontal box plots\n",
        "\n",
        "fig.write_html(\n",
        "    \"results/3/3_c_boxplot_delta_day_by_state_and_delay_type.html\")\n",
        "\n",
        "#fig.show()\n"
      ],
      "outputs": [],
      "execution_count": null
    }
  ],
  "metadata": {
    "anaconda-cloud": {},
    "kernelspec": {
      "display_name": "Python 3",
      "language": "python",
      "name": "python3"
    },
    "language_info": {
      "codemirror_mode": {
        "name": "ipython",
        "version": 3
      },
      "file_extension": ".py",
      "mimetype": "text/x-python",
      "name": "python",
      "nbconvert_exporter": "python",
      "pygments_lexer": "ipython3",
      "version": "3.6.1"
    }
  },
  "nbformat": 4,
  "nbformat_minor": 4
}