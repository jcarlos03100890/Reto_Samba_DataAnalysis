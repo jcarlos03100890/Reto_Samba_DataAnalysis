{
  "cells": [
    {
      "cell_type": "markdown",
      "metadata": {},
      "source": [
        "Created on Fri Feb  9 21:59:04 2024\n",
        "\n",
        "@author: juan_"
      ]
    },
    {
      "cell_type": "markdown",
      "metadata": {},
      "source": [
        "# Tema 2. Conceptos de estad\u00edstica y probabilidad usando Python\n",
        "\n",
        "## 1. Objetivo\n",
        "\n",
        "Ahora que se ha integrado la data de Oilst, el equipo de `Brasil BI Consulting` \n",
        "puede analizar de los retrazos las \u00f3rdenes de los cliente, as\u00ed el objetivo de esta \n",
        "secci\u00f3n ser\u00e1 comenzar dicho an\u00e1lisis incorporando elementos de estad\u00edstica y probabilidad usando Python."
      ]
    },
    {
      "cell_type": "markdown",
      "metadata": {},
      "source": [
        "## 2. Librer\u00edas de trabajo"
      ]
    },
    {
      "cell_type": "code",
      "metadata": {},
      "source": [
        "\n",
        "import warnings\n",
        "\n",
        "from funciones import read_data\n",
        "\n",
        "# Libreria de visualizaci\u00f3n\n",
        "import matplotlib.pyplot as plt\n",
        "\n",
        "\n",
        "warnings.filterwarnings('ignore')\n"
      ],
      "outputs": [],
      "execution_count": null
    },
    {
      "cell_type": "markdown",
      "metadata": {},
      "source": [
        "## 3. Lectura de datos\n",
        "\n",
        " Leeremos los datos, usando una funcion previamente definida\n",
        " "
      ]
    },
    {
      "cell_type": "code",
      "metadata": {},
      "source": [
        "\n",
        "oilst = read_data(\"results/1\")\n"
      ],
      "outputs": [],
      "execution_count": null
    },
    {
      "cell_type": "markdown",
      "metadata": {},
      "source": [
        "En este an\u00e1lisis \u00fanicamente nos interesar\u00e1n las \u00f3rdenes completadas, \n",
        "as\u00ed que tenemos que obtener el subconjunto de datos correspondiente. "
      ]
    },
    {
      "cell_type": "code",
      "metadata": {},
      "source": [
        "# Condicion  l\u00f3gica para filtrar (solo ordenes entregadas)\n",
        "delivered = oilst.query(\"order_status  == 'delivered'\")\n",
        "\n",
        "delivered.info()"
      ],
      "outputs": [],
      "execution_count": null
    },
    {
      "cell_type": "markdown",
      "metadata": {},
      "source": [
        "C.Programa que construya el histograma de frecuencias de la variable `total_sales`, \n",
        "junto con la el promedio intervalos que define la regla emp\u00edrica d\u00e9bil para encontrar el 88.88% \n",
        "de los datos alrededor del promedio, restringiendo el an\u00e1lisis las \u00f3rdenes que tienen status completo.\n",
        " El resultado de este script deber\u00e1 ser una figura denominada `histogram_sales_long_delay.png`."
      ]
    },
    {
      "cell_type": "code",
      "metadata": {},
      "source": [
        "\n",
        "\"\"\"\n",
        "\n",
        "## \u00bfQu\u00e9 es un histograma de frecuencias?\n",
        "Un histograma de frecuencias es una representaci\u00f3n gr\u00e1fica de un conjunto de datos que muestra \n",
        "la frecuencia con la que se presenta cada valor.\n",
        "\n",
        "Este gr\u00e1fico est\u00e1 formada por barras verticales construidas sobre una l\u00ednea recta base (normalmente horizontal) \n",
        "delimitada por los intervalos de la variable evaluada. Los intervalos o clases corresponden a los de una \n",
        "tabla de distribuci\u00f3n de frecuencias. La altura de cada barra es proporcional al n\u00famero de observaciones \n",
        "que hay en ese intervalo.\n",
        "\n",
        "\u00bfC\u00f3mo hacer un histograma de frecuencias?\n",
        "Ya sea que quieras realizar un histograma a mano o utilizando alguna herramienta inform\u00e1tica, es importante conocer los pasos que debes seguir para elaborarlos:\n",
        "\n",
        "* Determinar el n\u00famero de intervalos o clases.\n",
        "* Calcular la amplitud del intervalo.\n",
        "* Calcular el n\u00famero total de ocurrencias para intervalo / rango.\n",
        "* Dibujar los ejes de intervalos y de frecuencias.\n",
        "* Trazar las barras.\n",
        "\n",
        "Mendez, A. (2022, April 20). Histograma de Frecuencias \u2013 La gu\u00eda completa. Plan De Mejora. \n",
        "Retrieved February 11, 2024, from https://www.plandemejora.com/histograma-de-frecuencias/\n",
        "\n",
        "\n",
        "Tomando como base la definicion de Mendez(2022), para realizar un histograma de frecuencias, \n",
        "primero necesitamos deteminar:\n",
        "    * Determinar el n\u00famero de intervalos o clases.\n",
        "    * Calcular la amplitud del intervalo.\n",
        "\n",
        "\"\"\""
      ],
      "outputs": [],
      "execution_count": null
    },
    {
      "cell_type": "markdown",
      "metadata": {},
      "source": [
        "Paso 1: Determinar el n\u00famero de intervalos o clases\n",
        "\n",
        "Para determinar el n\u00famero de intervalos o clases usaremos la raiz cuadrada de los datos"
      ]
    },
    {
      "cell_type": "code",
      "metadata": {},
      "source": [
        "# Obtenemos eltotal de datos\n",
        "tota_datos=delivered['order_id'].count()\n",
        "\n",
        "# Ahora calculamos la raiz cuadrada\n",
        "from math import sqrt\n",
        "\n",
        "intervalos = sqrt(tota_datos)\n",
        "\n",
        "print(\"Intervalos:\",round(intervalos,0))"
      ],
      "outputs": [],
      "execution_count": null
    },
    {
      "cell_type": "markdown",
      "metadata": {},
      "source": [
        "Paso 2: Calcular la amplitud del intervalo.\n",
        "Una vez determinada la cantidad de intervalos, calculamos la amplitud del intervalo (w) con la siguiente expresi\u00f3n:\n",
        "         (Numero Mayor - Numero Menor)\n",
        "   W=   --------------------------------\n",
        "              Numero de intervalos\n",
        "\n",
        "Ya que deseamos saber el hitogramas de total_sales, es decir del total de ventas usaremos esta columna    "
      ]
    },
    {
      "cell_type": "code",
      "metadata": {},
      "source": [
        "#Valor maximo de ventas\n",
        "delivered['total_sales'].max()\n",
        "#Valor minimo de ventas\n",
        "delivered['total_sales'].min()\n",
        "\n",
        "#Calculamos la amplitud del intervalo\n",
        "\n",
        "w = (delivered['total_sales'].max() - delivered['total_sales'].min()) / intervalos\n",
        "\n",
        "print(\"La amplitud del intervalo es:\",w)"
      ],
      "outputs": [],
      "execution_count": null
    },
    {
      "cell_type": "markdown",
      "metadata": {},
      "source": [
        "Otra manera de determinar los intervalos asi como la amplitud es usar numpy"
      ]
    },
    {
      "cell_type": "code",
      "metadata": {},
      "source": [
        "import numpy as np\n",
        "# Calculate the optimal number of bins using the Freedman-Diaconis rule\n",
        "\n",
        "bins = np.histogram_bin_edges(delivered['total_sales'], 'auto')\n"
      ],
      "outputs": [],
      "execution_count": null
    },
    {
      "cell_type": "code",
      "metadata": {},
      "source": [
        "# figura y eje de la figura\n",
        "fig, ax = plt.subplots(figsize=(10, 5))\n",
        "\n",
        "# numero de intervalos para conteos\n",
        "n_bins = 310\n",
        "\n",
        "# creacion del objeto historgama\n",
        "n, bins, patches = ax.hist(\n",
        "    delivered['total_sales'], \n",
        "    n_bins\n",
        ")\n",
        "\n",
        "ax.set_title('Fig.1 Histograma de frequencias de la variable total_sales')\n",
        "ax.set_xlabel('Relacion entre el numero de ventas y el total vendido')\n",
        "ax.set_ylabel('Frecuencia')\n",
        "\n",
        "fig.savefig('results/2/histogram_sales_long_delay_A.png')\n",
        "\n",
        "# plt.show()\n"
      ],
      "outputs": [],
      "execution_count": null
    },
    {
      "cell_type": "code",
      "metadata": {},
      "source": [
        "# figura y eje de la figura\n",
        "fig, ax = plt.subplots(figsize=(10, 5))\n",
        "\n",
        "# numero de intervalos para conteos\n",
        "n_bins = 310\n",
        "\n",
        "# creacion del objeto historgama\n",
        "n, bins, patches = ax.hist(\n",
        "    delivered['total_sales'],\n",
        "    n_bins\n",
        ")\n",
        "\n",
        "ax.set_title(\n",
        "    'Fig.2 Histograma de frequencias de total_sales y regla emp\u00edrica d\u00e9bil')\n",
        "ax.set_xlabel('Relacion entre el numero de ventas y el total vendido')\n",
        "ax.set_ylabel('Frecuencia')\n",
        "\n",
        "# Agrega la media y las regiones de la regla emp\u00edrica d\u00e9bil\n",
        "# Linea para la media\n",
        "plt.axvline(\n",
        "    oilst['total_sales'].mean(),\n",
        "    color='r',\n",
        "    linestyle='dashed',\n",
        "    linewidth=3)\n",
        "\n",
        "# Linea para la media + 3 veces la desv. estandar\n",
        "plt.axvline(\n",
        "    oilst['total_sales'].mean() + 3*oilst['total_sales'].std(),\n",
        "    color='y',\n",
        "    linestyle='dashed',\n",
        "    linewidth=2)\n",
        "\n",
        "# Linea para la media - 3 veces la desv. estandar\n",
        "plt.axvline(\n",
        "    oilst['total_sales'].mean() - 3*oilst['total_sales'].std(),\n",
        "    color='y',\n",
        "    linestyle='dashed',\n",
        "    linewidth=2)\n",
        "\n",
        "# limites de la figura\n",
        "min_ylim, max_ylim = plt.ylim()\n",
        "\n",
        "# Etiquetas\n",
        "plt.text(\n",
        "    delivered['total_sales'].mean()*1.1,\n",
        "    max_ylim*0.9,\n",
        "    'Promedio: {:.2f}'.format(oilst['total_sales'].mean())\n",
        ")\n",
        "\n",
        "fig.savefig('results/2/histogram_sales_long_delay.png')\n",
        "\n",
        "# plt.show()\n"
      ],
      "outputs": [],
      "execution_count": null
    }
  ],
  "metadata": {
    "anaconda-cloud": {},
    "kernelspec": {
      "display_name": "Python 3",
      "language": "python",
      "name": "python3"
    },
    "language_info": {
      "codemirror_mode": {
        "name": "ipython",
        "version": 3
      },
      "file_extension": ".py",
      "mimetype": "text/x-python",
      "name": "python",
      "nbconvert_exporter": "python",
      "pygments_lexer": "ipython3",
      "version": "3.6.1"
    }
  },
  "nbformat": 4,
  "nbformat_minor": 4
}