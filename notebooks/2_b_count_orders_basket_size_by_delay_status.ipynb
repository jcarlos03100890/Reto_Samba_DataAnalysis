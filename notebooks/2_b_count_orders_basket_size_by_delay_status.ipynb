{
  "cells": [
    {
      "cell_type": "markdown",
      "metadata": {},
      "source": [
        "Created on Fri Feb  9 21:59:04 2024\n",
        "\n",
        "@author: juan_"
      ]
    },
    {
      "cell_type": "markdown",
      "metadata": {},
      "source": [
        "# Tema 2. Conceptos de estadística y probabilidad usando Python\n",
        "\n",
        "## 1. Objetivo\n",
        "\n",
        "Ahora que se ha integrado la data de Oilst, el equipo de `Brasil BI Consulting` \n",
        "puede analizar de los retrazos las órdenes de los cliente, así el objetivo de esta \n",
        "sección será comenzar dicho análisis incorporando elementos de estadística y probabilidad usando Python."
      ]
    },
    {
      "cell_type": "markdown",
      "metadata": {},
      "source": [
        "## 2. Librerías de trabajo"
      ]
    },
    {
      "cell_type": "code",
      "execution_count": null,
      "metadata": {},
      "outputs": [],
      "source": [
        "\n",
        "\n",
        "import pandas as pd\n",
        "import warnings\n",
        "from funciones import read_data\n",
        "warnings.filterwarnings('ignore')\n",
        "\n",
        "# Libreria de visualización\n",
        "import matplotlib.pyplot as plt\n",
        "import seaborn as sns\n",
        "import plotly.express as px\n",
        "# %%\n",
        "\"\"\"\n",
        "## 3. Lectura de datos\n",
        "\n",
        " Leeremos los datos, usando una funcion previamente definida\n",
        "\"\"\"\n",
        "\n",
        "oilst = read_data(\"results/1\")\n",
        "\n",
        "oilst.info()"
      ]
    },
    {
      "cell_type": "markdown",
      "metadata": {},
      "source": [
        "En este análisis únicamente nos interesarán las órdenes completadas, \n",
        "así que tenemos que obtener el subconjunto de datos correspondiente"
      ]
    },
    {
      "cell_type": "code",
      "execution_count": null,
      "metadata": {},
      "outputs": [],
      "source": [
        "# Condicion  lógica para filtrar (solo ordenes entregadas)\n",
        "delivered_filter = \"order_status  == 'delivered' \"\n",
        "\n",
        "delivered = oilst.query(delivered_filter)"
      ]
    },
    {
      "cell_type": "markdown",
      "metadata": {},
      "source": [
        "Ahora podemos ver una muestra de este nuevo subconjunto de datos:"
      ]
    },
    {
      "cell_type": "code",
      "execution_count": null,
      "metadata": {},
      "outputs": [],
      "source": [
        "delivered.sample(5)"
      ]
    },
    {
      "cell_type": "markdown",
      "metadata": {},
      "source": [
        "La cantidad de renglones y columnas totales en este dataframe se puede obtener con el método `.shape`"
      ]
    },
    {
      "cell_type": "code",
      "execution_count": null,
      "metadata": {},
      "outputs": [],
      "source": [
        "delivered.shape\n"
      ]
    },
    {
      "cell_type": "markdown",
      "metadata": {},
      "source": [
        "En este análisis únicamente nos interesa identificar la cantidad conteos, \n",
        "cuantas órdenes que existieron por cantidad de productos dentro de la orden \n",
        "y el tipo de retraso de las categorías `delay_status`."
      ]
    },
    {
      "cell_type": "code",
      "execution_count": null,
      "metadata": {},
      "outputs": [],
      "source": [
        "\n",
        "results = pd.crosstab(\n",
        "    oilst['total_products'],\n",
        "    oilst['delay_status'],\n",
        "    margins=True\n",
        ").sort_values(['long_delay'])\n",
        "\n",
        "\n",
        "results.to_csv(\n",
        "    # nombre del archivo\n",
        "    'results/2/count_orders_basket_size_by_delay_status.csv')\n",
        "\n",
        "print(results)"
      ]
    },
    {
      "cell_type": "markdown",
      "metadata": {},
      "source": [
        "Despues de analizar la cantidad de ordenes por cantidad de productos por tipo de retrazo, \n",
        "una tabla no nos dice mucho, asi que creamos esta grafica con los primeros resultados\n",
        "Donde observamos que la mayoria de las ordenes consisten uno o dos productos\n",
        "\"\"\"\n",
        "\n",
        "# %%\n",
        "\n",
        "orders_basket_size_by_delay_status = delivered.groupby(\n",
        "    ['total_products', 'delay_status']).aggregate(\n",
        "        {'order_id': 'count', }\n",
        ").reset_index().rename(\n",
        "    columns={'order_id': 'orders', }\n",
        ")\n",
        "\n",
        "orders_basket_size_by_delay_status"
      ]
    },
    {
      "cell_type": "code",
      "execution_count": null,
      "metadata": {},
      "outputs": [],
      "source": [
        "\n",
        "ax=sns.barplot(data = orders_basket_size_by_delay_status.query(\"total_products < 7\"),\n",
        "                 x = \"total_products\", \n",
        "                 y = \"orders\", \n",
        "                 hue = \"delay_status\")\n",
        "ax.set_title('Conteo de ordenes por cantidad de productos por tipo de retrazo')\n",
        "ax.set_xlabel('Total de Productos')\n",
        "ax.set_ylabel('Numero de Ordenes')\n",
        "plt.savefig('results/2/count_orders_basket_size_by_delay_status.png')\n",
        "#plt.show()\n"
      ]
    },
    {
      "cell_type": "code",
      "execution_count": null,
      "metadata": {},
      "outputs": [],
      "source": [
        "# Create the grouped bar chart\n",
        "fig = px.bar(orders_basket_size_by_delay_status.query(\"total_products < 7\"), \n",
        "             x=\"total_products\", \n",
        "             y=\"orders\", \n",
        "             color=\"delay_status\", \n",
        "             barmode='group',\n",
        "             labels={'total_products':'Total de Productos','orders':'Numero de Ordenes','delay_status':'Tipo de Retrazo'})\n",
        "\n",
        "fig.update_layout(title=\"Conteo de ordenes por cantidad de productos por tipo de retrazo\")\n",
        "\n",
        "fig.write_html(\"results/2/count_orders_basket_size_by_delay_status.html\")\n",
        "\n",
        "#fig.show()"
      ]
    }
  ],
  "metadata": {
    "anaconda-cloud": {},
    "kernelspec": {
      "display_name": "Python 3",
      "language": "python",
      "name": "python3"
    },
    "language_info": {
      "codemirror_mode": {
        "name": "ipython",
        "version": 3
      },
      "file_extension": ".py",
      "mimetype": "text/x-python",
      "name": "python",
      "nbconvert_exporter": "python",
      "pygments_lexer": "ipython3",
      "version": "3.6.1"
    }
  },
  "nbformat": 4,
  "nbformat_minor": 4
}
