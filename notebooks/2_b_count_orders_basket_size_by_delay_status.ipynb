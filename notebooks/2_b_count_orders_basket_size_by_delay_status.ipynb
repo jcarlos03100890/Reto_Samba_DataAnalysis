{
  "cells": [
    {
      "cell_type": "markdown",
      "metadata": {},
      "source": [
        "Created on Fri Feb  9 21:59:04 2024\n",
        "\n",
        "@author: juan_"
      ]
    },
    {
      "cell_type": "markdown",
      "metadata": {},
      "source": [
        "# Tema 2. Conceptos de estad\u00edstica y probabilidad usando Python\n",
        "\n",
        "## 1. Objetivo\n",
        "\n",
        "Ahora que se ha integrado la data de Oilst, el equipo de `Brasil BI Consulting` \n",
        "puede analizar de los retrazos las \u00f3rdenes de los cliente, as\u00ed el objetivo de esta \n",
        "secci\u00f3n ser\u00e1 comenzar dicho an\u00e1lisis incorporando elementos de estad\u00edstica y probabilidad usando Python."
      ]
    },
    {
      "cell_type": "markdown",
      "metadata": {},
      "source": [
        "## 2. Librer\u00edas de trabajo"
      ]
    },
    {
      "cell_type": "code",
      "metadata": {},
      "source": [
        "\n",
        "\n",
        "import pandas as pd\n",
        "import warnings\n",
        "from funciones import read_data\n",
        "warnings.filterwarnings('ignore')\n",
        "\n",
        "# Libreria de visualizaci\u00f3n\n",
        "import matplotlib.pyplot as plt\n",
        "import seaborn as sns\n",
        "import plotly.express as px"
      ],
      "outputs": [],
      "execution_count": null
    },
    {
      "cell_type": "markdown",
      "metadata": {},
      "source": [
        "## 3. Lectura de datos\n",
        "\n",
        " Leeremos los datos, usando una funcion previamente definida"
      ]
    },
    {
      "cell_type": "code",
      "metadata": {},
      "source": [
        "\n",
        "oilst = read_data(\"results/1\")\n",
        "\n",
        "oilst.info()"
      ],
      "outputs": [],
      "execution_count": null
    },
    {
      "cell_type": "markdown",
      "metadata": {},
      "source": [
        "En este an\u00e1lisis \u00fanicamente nos interesar\u00e1n las \u00f3rdenes completadas, \n",
        "as\u00ed que tenemos que obtener el subconjunto de datos correspondiente"
      ]
    },
    {
      "cell_type": "code",
      "metadata": {},
      "source": [
        "# Condicion  l\u00f3gica para filtrar (solo ordenes entregadas)\n",
        "delivered_filter = \"order_status  == 'delivered' \"\n",
        "\n",
        "delivered = oilst.query(delivered_filter)"
      ],
      "outputs": [],
      "execution_count": null
    },
    {
      "cell_type": "markdown",
      "metadata": {},
      "source": [
        "Ahora podemos ver una muestra de este nuevo subconjunto de datos:"
      ]
    },
    {
      "cell_type": "code",
      "metadata": {},
      "source": [
        "delivered.sample(5)"
      ],
      "outputs": [],
      "execution_count": null
    },
    {
      "cell_type": "markdown",
      "metadata": {},
      "source": [
        "La cantidad de renglones y columnas totales en este dataframe se puede obtener con el m\u00e9todo `.shape`"
      ]
    },
    {
      "cell_type": "code",
      "metadata": {},
      "source": [
        "delivered.shape\n"
      ],
      "outputs": [],
      "execution_count": null
    },
    {
      "cell_type": "markdown",
      "metadata": {},
      "source": [
        "En este an\u00e1lisis \u00fanicamente nos interesa identificar la cantidad conteos, \n",
        "cuantas \u00f3rdenes que existieron por cantidad de productos dentro de la orden \n",
        "y el tipo de retraso de las categor\u00edas `delay_status`."
      ]
    },
    {
      "cell_type": "code",
      "metadata": {},
      "source": [
        "\n",
        "results = pd.crosstab(\n",
        "    oilst['total_products'],\n",
        "    oilst['delay_status'],\n",
        "    margins=True\n",
        ").sort_values(['long_delay'])\n",
        "\n",
        "# Guardar los resultados\n",
        "results.to_csv(\n",
        "    # nombre del archivo\n",
        "    'results/2/count_orders_basket_size_by_delay_status.csv')\n",
        "\n",
        "print(results)"
      ],
      "outputs": [],
      "execution_count": null
    },
    {
      "cell_type": "markdown",
      "metadata": {},
      "source": [
        "Despues de analizar la cantidad de ordenes por cantidad de productos por tipo de retrazo, \n",
        "una tabla no nos dice mucho, asi que creamos esta grafica con los primeros resultados\n",
        "Donde observamos que la mayoria de las ordenes consisten uno o dos productos"
      ]
    },
    {
      "cell_type": "code",
      "metadata": {},
      "source": [
        "\n",
        "#Visualizacion estatica del tipo de retrazo por conteo de productos\n",
        "\n",
        "orders_basket_size_by_delay_status = delivered.groupby(\n",
        "    ['total_products', 'delay_status']).aggregate(\n",
        "        {'order_id': 'count', \n",
        "         'total_sales':'sum'}\n",
        ").reset_index().rename(\n",
        "    columns={'order_id': 'orders', }\n",
        ")\n",
        "\n",
        "orders_basket_size_by_delay_status"
      ],
      "outputs": [],
      "execution_count": null
    },
    {
      "cell_type": "code",
      "metadata": {},
      "source": [
        "\n",
        "#Visualizacion estatica del tipo de retrazo por conteo de productos\n",
        "\n",
        "ax=sns.barplot(data = orders_basket_size_by_delay_status.query(\"total_products < 7\"),\n",
        "                 x = \"total_products\", \n",
        "                 y = \"orders\", \n",
        "                 hue = \"delay_status\")\n",
        "ax.set_title('Conteo de ordenes por cantidad de productos por tipo de retrazo')\n",
        "ax.set_xlabel('Total de Productos')\n",
        "ax.set_ylabel('Numero de Ordenes')\n",
        "plt.savefig('results/2/count_orders_basket_size_by_delay_status.png')\n",
        "#plt.show()\n"
      ],
      "outputs": [],
      "execution_count": null
    },
    {
      "cell_type": "code",
      "metadata": {},
      "source": [
        "#Visualizacion dinamica del tipo de retrazo por conteo de productos\n",
        "fig = px.bar(orders_basket_size_by_delay_status.query(\"total_products < 7\"), \n",
        "             x=\"total_products\", \n",
        "             y=\"orders\", \n",
        "             color=\"delay_status\", \n",
        "             barmode='group',\n",
        "             labels={'total_products':'Total de Productos','orders':'Numero de Ordenes','delay_status':'Tipo de Retrazo'},\n",
        "             custom_data=[\"delay_status\",\"total_sales\"])\n",
        "\n",
        "fig.update_layout(title=\"Conteo de ordenes por cantidad de productos por tipo de retrazo\")\n",
        "\n",
        "fig.update_traces(\n",
        "    hovertemplate=\"<br>\".join([\n",
        "        \"Total de Productos: %{x}\",\n",
        "        \"Numero de Ordenes: %{y}\",\n",
        "        \"Tipo de Retrazo: %{customdata[0]}\",\n",
        "        \"Total de Ventas: %{customdata[1]}\"\n",
        "    ])\n",
        ")\n",
        "\n",
        "fig.write_html(\"results/2/count_orders_basket_size_by_delay_status.html\")\n",
        "\n",
        "#fig.show()"
      ],
      "outputs": [],
      "execution_count": null
    }
  ],
  "metadata": {
    "anaconda-cloud": {},
    "kernelspec": {
      "display_name": "Python 3",
      "language": "python",
      "name": "python3"
    },
    "language_info": {
      "codemirror_mode": {
        "name": "ipython",
        "version": 3
      },
      "file_extension": ".py",
      "mimetype": "text/x-python",
      "name": "python",
      "nbconvert_exporter": "python",
      "pygments_lexer": "ipython3",
      "version": "3.6.1"
    }
  },
  "nbformat": 4,
  "nbformat_minor": 4
}