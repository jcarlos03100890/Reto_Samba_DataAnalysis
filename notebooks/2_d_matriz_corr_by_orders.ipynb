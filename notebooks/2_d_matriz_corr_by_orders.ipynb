{
  "cells": [
    {
      "cell_type": "markdown",
      "metadata": {},
      "source": [
        "Created on Fri Feb  9 23:23:53 2024\n",
        "\n",
        "@author: juan_"
      ]
    },
    {
      "cell_type": "markdown",
      "metadata": {},
      "source": [
        "# Tema 2. Conceptos de estad\u00edstica y probabilidad usando Python\n",
        "\n",
        "## 1. Objetivo\n",
        "\n",
        "Ahora que se ha integrado la data de Oilst, el equipo de `Brasil BI Consulting` \n",
        "puede analizar de los retrazos las \u00f3rdenes de los cliente, as\u00ed el objetivo de esta \n",
        "secci\u00f3n ser\u00e1 comenzar dicho an\u00e1lisis incorporando elementos de estad\u00edstica y probabilidad usando Python."
      ]
    },
    {
      "cell_type": "markdown",
      "metadata": {},
      "source": [
        "## 2. Librer\u00edas de trabajo"
      ]
    },
    {
      "cell_type": "code",
      "metadata": {},
      "source": [
        "\n",
        "import warnings\n",
        "\n",
        "from funciones import read_data\n",
        "\n",
        "# Libreria de visualizaci\u00f3n\n",
        "import matplotlib.pyplot as plt\n",
        "import plotly.express as px\n",
        "import seaborn as sns\n",
        "\n",
        "warnings.filterwarnings('ignore')\n"
      ],
      "outputs": [],
      "execution_count": null
    },
    {
      "cell_type": "markdown",
      "metadata": {},
      "source": [
        "## 3. Lectura de datos\n",
        "\n",
        " Leeremos los datos, usando una funcion previamente definida\n",
        " "
      ]
    },
    {
      "cell_type": "code",
      "metadata": {},
      "source": [
        "\n",
        "oilst = read_data(\"results/1\")\n"
      ],
      "outputs": [],
      "execution_count": null
    },
    {
      "cell_type": "markdown",
      "metadata": {},
      "source": [
        "En este an\u00e1lisis \u00fanicamente nos interesar\u00e1n las \u00f3rdenes completadas, \n",
        "as\u00ed que tenemos que obtener el subconjunto de datos correspondiente. "
      ]
    },
    {
      "cell_type": "code",
      "metadata": {},
      "source": [
        "# Condicion  l\u00f3gica para filtrar (solo ordenes entregadas)\n",
        "\n",
        "delivered = oilst.query(\"order_status  == 'delivered' \")"
      ],
      "outputs": [],
      "execution_count": null
    },
    {
      "cell_type": "markdown",
      "metadata": {},
      "source": [
        "# Calcula la matriz de correlaci\u00f3n entre las variables `total_sales`, `total_products`, `delta_days` y \n",
        "`distance_distribution_center` para \u00f3rdenes completadas que cuya fecha de entrega sobrepasa \n",
        "los 10 d\u00edas de la fecha estimada para la entrega."
      ]
    },
    {
      "cell_type": "markdown",
      "metadata": {},
      "source": [
        "### An\u00e1lsis de correlaci\u00f3n lineal\n",
        "\n",
        "La correlaci\u00f3n lineal es una herramienta que se utiliza para analizar la relaci\u00f3n lineal entre varias variables. En esencia, lo que hace es medir cu\u00e1nto se parecen dos variables y cu\u00e1nto se influyen mutuamente.\n",
        "\n",
        "Formalmente, se denomina **Coeficiente de correlaci\u00f3n de Pearson** y se calcula como un coeficiente entre dos variables num\u00e9ricas, que oscila entre entre -1 y 1, donde -1 significa que las dos variables est\u00e1n completamente inversamente relacionadas (si una aumenta, la otra disminuye) y 1 significa que las dos variables est\u00e1n completamente relacionadas (si una aumenta, la otra tambi\u00e9n lo hace). En el caso cercano a cero, esto significa que no hay correlacion de tipo lineal entre estas\n",
        "\n",
        "Si queremos detectar que una variable tiene correlaci\u00f3n lineal con otrra, su coeficiente de correlaci\u00f3n debe aproximarse lo m\u00e1s posible a -1 o 1. \n",
        "\n",
        "Debemos mencionar que la existenciade correlaci\u00f3n lineal entre dos variables no implica que una cause a la otra; por ejemplo, la cantidad de helados que se venden en verano aumenta a la vez que la cantidad de quemaduras en la piel en la misma \u00e9poca, sin que alguna de ellas sea la causa de la otra. Sin embargo la correlaci\u00f3n alta es un elemento deseable en cualquier an\u00e1lisis exploratorio para comenzar a indagar como es que un fen\u00f3meno cambia ante diversos factores. "
      ]
    },
    {
      "cell_type": "markdown",
      "metadata": {},
      "source": [
        "Ahora veremos como cambia la distancia de los domicilios de los clientes a su centro de distribuci\u00f3n m\u00e1s cercano (`distance_distribution_center`) con respecto al estatus del tiempo de entrega. Primero, podemos revisar los estad\u00edsticos b\u00e1sicos:"
      ]
    },
    {
      "cell_type": "code",
      "metadata": {},
      "source": [
        "delivered.groupby(['delay_status'])['distance_distribution_center'].describe()"
      ],
      "outputs": [],
      "execution_count": null
    },
    {
      "cell_type": "markdown",
      "metadata": {},
      "source": [
        "Ahora usaremos el m\u00e9tod `.corr` de pandas sobre las variables num\u00e9ricas `total_sales`, `total_products`, `distance_distribution_center`y `delta_days`."
      ]
    },
    {
      "cell_type": "code",
      "metadata": {},
      "source": [
        "delivered[\n",
        "    ['total_sales', 'total_products', 'distance_distribution_center', 'delta_days']\n",
        "    ].corr().round(4)"
      ],
      "outputs": [],
      "execution_count": null
    },
    {
      "cell_type": "code",
      "metadata": {},
      "source": [
        "delivered.describe()"
      ],
      "outputs": [],
      "execution_count": null
    },
    {
      "cell_type": "markdown",
      "metadata": {},
      "source": [
        "En esta tabla no se aprecia correlaci\u00f3n entre las variables. \n",
        "Repitamos los c\u00e1lculos pero en el caso de que ordenes entregas, que presentaron retrazos prolongados. \n",
        "\n",
        "Script que calcula la matriz de correlaci\u00f3n entre las variables `total_sales`, `total_products`, \n",
        "`delta_days` y `distance_distribution_center` para \u00f3rdenes completadas que cuya fecha \n",
        "de entrega sobrepasa los 10 d\u00edas de la fecha estimada para la entrega"
      ]
    },
    {
      "cell_type": "code",
      "metadata": {},
      "source": [
        "# Completa el codigo provisto\n",
        "filter = 'delta_days > 10' # filtro para definir ordenes con retraso prolongado\n",
        "\n",
        "# lista de variables numericas de ventas, productos, retrasos y distancia al centro de distribucion\n",
        "numerical_variables = ['total_sales', 'total_products', 'distance_distribution_center', 'delta_days']\n",
        "\n",
        "# calculo de matriz de correlacion\n",
        "data=delivered.query(filter)[\n",
        "    numerical_variables\n",
        "    ].corr().round(4)\n",
        "\n",
        "print(data)\n",
        "\n",
        "data.to_csv(\n",
        "    # nombre del archivo\n",
        "    'results/2/matriz_corr_by_orders.csv',\n",
        "    # flag para no escribir el indice del dataframe al csv\n",
        "    index=False\n",
        ")"
      ],
      "outputs": [],
      "execution_count": null
    },
    {
      "cell_type": "code",
      "metadata": {},
      "source": [
        "\n",
        "# Especifica el tama\u00f1o de la figura\n",
        "plt.figure(figsize = (15,10))\n",
        "\n",
        "svm = sns.heatmap(\n",
        "    data,\n",
        "    cmap=\"coolwarm\",\n",
        "    annot=True).set(\n",
        "        title='Matriz de correlaci\u00f3n para \u00f3rdenes completadas con retrazo mayor a 10 dias'\n",
        "        )\n",
        "\n",
        "plt.savefig('results/2/matriz_corr_by_orders.png',dpi=600)\n",
        "\n",
        "#plt.show()"
      ],
      "outputs": [],
      "execution_count": null
    },
    {
      "cell_type": "code",
      "metadata": {},
      "source": [
        "\n",
        "fig = px.imshow(data,text_auto=True,color_continuous_scale='RdBu_r')\n",
        "\n",
        "# Establecer el titulo\n",
        "fig.update_layout(title=\"Matriz de correlaci\u00f3n para \u00f3rdenes completadas con retrazo mayor a 10 dias\")\n",
        "\n",
        "# Guardar el plot\n",
        "fig.write_html(\"results/2/matriz_corr_by_orders.html\")\n",
        "\n",
        "# Display the plot\n",
        "#fig.show()"
      ],
      "outputs": [],
      "execution_count": null
    }
  ],
  "metadata": {
    "anaconda-cloud": {},
    "kernelspec": {
      "display_name": "Python 3",
      "language": "python",
      "name": "python3"
    },
    "language_info": {
      "codemirror_mode": {
        "name": "ipython",
        "version": 3
      },
      "file_extension": ".py",
      "mimetype": "text/x-python",
      "name": "python",
      "nbconvert_exporter": "python",
      "pygments_lexer": "ipython3",
      "version": "3.6.1"
    }
  },
  "nbformat": 4,
  "nbformat_minor": 4
}