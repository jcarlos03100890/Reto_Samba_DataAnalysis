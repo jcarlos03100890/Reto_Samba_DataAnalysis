{
  "cells": [
    {
      "cell_type": "markdown",
      "metadata": {},
      "source": [
        "Created on Fri Feb  9 21:59:04 2024\n",
        "\n",
        "@author: juan_"
      ]
    },
    {
      "cell_type": "markdown",
      "metadata": {},
      "source": [
        "# Tema 2. Conceptos de estad\u00edstica y probabilidad usando Python\n",
        "\n",
        "## 1. Objetivo\n",
        "\n",
        "Ahora que se ha integrado la data de Oilst, el equipo de `Brasil BI Consulting`puede analizar de los retrazos las \u00f3rdenes de los cliente, as\u00ed el objetivo de esta secci\u00f3n ser\u00e1 comenzar dicho an\u00e1lisis incorporando elementos de estad\u00edstica y probabilidad usando Python."
      ]
    },
    {
      "cell_type": "markdown",
      "metadata": {},
      "source": [
        "## 2. Librer\u00edas de trabajo"
      ]
    },
    {
      "cell_type": "code",
      "metadata": {},
      "source": [
        "\n",
        "import matplotlib.pyplot as plt\n",
        "import warnings\n",
        "import plotly.graph_objects as go\n",
        "from plotly.subplots import make_subplots\n",
        "\n",
        "from funciones import read_data\n",
        "\n",
        "\n",
        "warnings.filterwarnings('ignore')\n"
      ],
      "outputs": [],
      "execution_count": null
    },
    {
      "cell_type": "markdown",
      "metadata": {},
      "source": [
        "## 3. Lectura de datos\n",
        "\n",
        "Leeremos los datos, indicando a Python donde se encuentra la carpeta que se aloja los datos y los nombres de los archivos relevantes para el an\u00e1lisis."
      ]
    },
    {
      "cell_type": "code",
      "metadata": {},
      "source": [
        "\n",
        "oilst = read_data(\"results/1\")\n"
      ],
      "outputs": [],
      "execution_count": null
    },
    {
      "cell_type": "markdown",
      "metadata": {},
      "source": [
        "En este an\u00e1lisis \u00fanicamente nos interesar\u00e1n las \u00f3rdenes completadas, \n",
        "as\u00ed que tenemos que obtener el subconjunto de datos correspondiente. "
      ]
    },
    {
      "cell_type": "code",
      "metadata": {},
      "source": [
        "\n",
        "delivered = oilst.query(\"order_status  == 'delivered' \")"
      ],
      "outputs": [],
      "execution_count": null
    },
    {
      "cell_type": "markdown",
      "metadata": {},
      "source": [
        "Script que calcule la proporci\u00f3n que han representado las ventas de \u00f3rdenes completas de Oilst dentro \n",
        "de los categor\u00edas de `delay_status` y a los largo de los trimestres de 2016 a 2018. \n",
        "\n",
        "El resultado de este script deber\u00e1 ser un tabla denominada `prop_sales_delay_status_by_quarte.csv`."
      ]
    },
    {
      "cell_type": "markdown",
      "metadata": {},
      "source": [
        "Podemos analizar la proporci\u00f3n de las ventas que provienen de retrasos prolongadosa \n",
        "lo largo de los diferentes trimestres. Primero construyamos la pivot tables de ventas \n",
        "segmentada por `delay_status` a lo largo de `quarter`"
      ]
    },
    {
      "cell_type": "code",
      "metadata": {},
      "source": [
        "# Creamos una pivot table con la suma de las ventas agrupadas por tipo retrazo por trimestre, \n",
        "\n",
        "data=delivered.pivot_table(\n",
        "    index='delay_status',\n",
        "    columns='quarter',\n",
        "    values='total_sales',\n",
        "    aggfunc='sum',\n",
        "    fill_value=0\n",
        ")\n",
        "\n",
        "print(data)"
      ],
      "outputs": [],
      "execution_count": null
    },
    {
      "cell_type": "markdown",
      "metadata": {},
      "source": [
        "A la tabla anterior, se le puede aplicar un funci\u00f3n que calcule las proporciones \n",
        "dentro de ventas dentro de cada categor\u00eda:"
      ]
    },
    {
      "cell_type": "code",
      "metadata": {},
      "source": [
        "# Aplica la funci\u00f3n lambda x:   x / float(x.sum() sobre\n",
        "# renglones (axis=0)\n",
        "\n",
        "data = delivered.pivot_table(\n",
        "    index='delay_status',\n",
        "    columns='quarter',\n",
        "    values='total_sales',\n",
        "    aggfunc='sum',\n",
        "    # margins=True,\n",
        "    fill_value=0\n",
        ").apply(lambda x:   x / float(x.sum()), axis=0).round(2)\n",
        "\n",
        "print(data)\n",
        "\n",
        "data.to_csv(\n",
        "    # nombre del archivo\n",
        "    'results/2/prop_sales_delay_status_by_quarter.csv',\n",
        "    # flag para no escribir el indice del dataframe al csv\n",
        "    index=False\n",
        ")"
      ],
      "outputs": [],
      "execution_count": null
    },
    {
      "cell_type": "markdown",
      "metadata": {},
      "source": [
        "Hasta aqui completamos el objetivo del presente script, crear una table que \n",
        "muestre las proporciones de ventas por tipo de retrazo a lo largo de los trimestres.\n",
        "\n",
        "Sin embargo, para una mejor lectura, crearemos una visualizacion estatica y una dinamica \n",
        "para mostrar los datos de total de ventas por tipo de retrazo a lo largo de los trimestres.\n",
        "\"\"\"\n",
        "# %%\n",
        "# Creamos una pivot table con la suma de las ventas agrupadas por tipo retrazo por trimestre, \n",
        "\n",
        "data=delivered.pivot_table(\n",
        "    index='delay_status',\n",
        "    columns='quarter',\n",
        "    values='total_sales',\n",
        "    aggfunc='sum',\n",
        "    fill_value=0\n",
        ")\n",
        "\n",
        "print(data)"
      ]
    },
    {
      "cell_type": "code",
      "metadata": {},
      "source": [
        "\n",
        "#Creamos una visualziacion estatica\n",
        "# show data\n",
        "fig, axs = plt.subplots(nrows=3, ncols=3, figsize=(10, 10))\n",
        "\n",
        "# unpack all the axes subplots\n",
        "axe = axs.ravel()\n",
        "\n",
        "for i, col in enumerate(data.columns):\n",
        "    data[col].plot.pie(ax=axe[i], label=\"\")\n",
        "    axe[i].set_title(col)\n",
        "\n",
        "plt.tight_layout()\n",
        "plt.savefig('results/2/2_a_Pie-prop_sales_delay_status_by_quarter.png')\n",
        "#plt.show()"
      ],
      "outputs": [],
      "execution_count": null
    },
    {
      "cell_type": "markdown",
      "metadata": {},
      "source": [
        "Auqnue podemos ver la informacion, no queda muy claro ni la proporcion ni el toal de ventas,\n",
        "por esto creamos una visualizacion dinamica que muestre un poco mas de esta informacion"
      ]
    },
    {
      "cell_type": "code",
      "metadata": {},
      "source": [
        "\n",
        "# Pie chart using px\n",
        "\n",
        "fig = make_subplots(rows=3, cols=3, specs=[[{\"type\": \"pie\"}, {\"type\": \"pie\"}, {\"type\": \"pie\"}],\n",
        "                                           [{\"type\": \"pie\"}, {\"type\": \"pie\"}, {\"type\": \"pie\"}],\n",
        "                                           [{\"type\": \"pie\"}, {\"type\": \"pie\"}, {\"type\": \"pie\"}]])\n",
        "\n",
        "ii=1\n",
        "jj=1\n",
        "    \n",
        "\n",
        "labels=['Long Delay','On time','Short Delay']\n",
        "for i, col in enumerate(data.columns):\n",
        "    \n",
        "    if i==3:\n",
        "        ii= 1\n",
        "        jj=2\n",
        "    if i==6:\n",
        "        ii= 1\n",
        "        jj=3\n",
        "  \n",
        "    fig.add_trace(go.Pie(\n",
        "        labels=labels,\n",
        "        values=data[col],\n",
        "        marker=dict(colors=['red', 'green', 'blue']),\n",
        "        title=col,\n",
        "        hole=0.5), row=jj, col=ii)\n",
        "    \n",
        "    ii=ii+1\n",
        "\n",
        "fig.update_layout(title=\"Proporci\u00f3n de ventas por `delay_status` por quarter\")\n",
        "\n",
        "fig.write_html(\"results/2/2_a_Pie-prop_sales_delay_status_by_quarter.html\")\n"
      ],
      "outputs": [],
      "execution_count": null
    }
  ],
  "metadata": {
    "anaconda-cloud": {},
    "kernelspec": {
      "display_name": "Python 3",
      "language": "python",
      "name": "python3"
    },
    "language_info": {
      "codemirror_mode": {
        "name": "ipython",
        "version": 3
      },
      "file_extension": ".py",
      "mimetype": "text/x-python",
      "name": "python",
      "nbconvert_exporter": "python",
      "pygments_lexer": "ipython3",
      "version": "3.6.1"
    }
  },
  "nbformat": 4,
  "nbformat_minor": 4
}